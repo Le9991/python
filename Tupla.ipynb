{
 "cells": [
  {
   "cell_type": "code",
   "execution_count": 15,
   "metadata": {},
   "outputs": [
    {
     "name": "stdout",
     "output_type": "stream",
     "text": [
      "('zero', 'um', 'dois', 'tres', 'quatro', 'cinco', 'seis', 'sete', 'oito', 'nove')\n",
      "zero\n",
      "2\n",
      "1\n",
      "10\n",
      "cinquenta e seis\n"
     ]
    }
   ],
   "source": [
    "#tupla\n",
    "\n",
    "numeros = ('zero','um','dois','tres','quatro','cinco','seis','sete','oito','nove')\n",
    "print(numeros)\n",
    "print(numeros[0])\n",
    "print(numeros.index('dois'))\n",
    "print(numeros.count('dois'))\n",
    "print(len(numeros))\n",
    "dez = ('dez','onze','doze','treze','quatorze','quinze','dezesseis','dezessete','dezoito','dezenove')\n",
    "dezenas = ('','','vinte','trinta','quarenta','cinquenta','sessenta','oitenta','noventa')\n",
    "\n",
    "\n",
    "indice = int(input('digite um numero entre 0 e 19: '))\n",
    "if indice < 10:\n",
    "    extenso = numeros[indice]\n",
    "elif indice < 20: \n",
    "    extenso = dez[indice-10]\n",
    "elif indice <= 99:\n",
    "    dezena = int(indice / 10)\n",
    "    numeral = indice % 10\n",
    "    if numeral > 0:\n",
    "        extenso = dezenas[dezena] +' e '+ numeros[numeral]\n",
    "    else:\n",
    "        extenso = dezenas[dezena]\n",
    "\n",
    "\n",
    "print(extenso)\n"
   ]
  },
  {
   "cell_type": "code",
   "execution_count": 25,
   "metadata": {},
   "outputs": [
    {
     "name": "stdout",
     "output_type": "stream",
     "text": [
      "domingo\n"
     ]
    }
   ],
   "source": [
    "#semana e meses por extenso\n",
    "\n",
    "dia = ['segunda-feira','terça-feira','quarta-feira','quinta=feira','sexta-feira','sabado','domingo']\n",
    "mês = ['Janeiro','Fevereiro','Março','Abril','Maio','Junho','Julho','Agosto','Setembro','Outubro','Novembro','Dezembro']\n",
    "\n",
    "meses = int(input('Informe o numero do mês'))\n",
    "if meses < 7:\n",
    "    extenso = dia[meses]\n",
    "elif meses < 12:\n",
    "    extenso = mês[mês]\n",
    "\n",
    "\n",
    "print(extenso)\n",
    "\n",
    "\n",
    "\n",
    "\n",
    "\n"
   ]
  }
 ],
 "metadata": {
  "kernelspec": {
   "display_name": "Python 3.11.0 64-bit",
   "language": "python",
   "name": "python3"
  },
  "language_info": {
   "codemirror_mode": {
    "name": "ipython",
    "version": 3
   },
   "file_extension": ".py",
   "mimetype": "text/x-python",
   "name": "python",
   "nbconvert_exporter": "python",
   "pygments_lexer": "ipython3",
   "version": "3.11.0"
  },
  "orig_nbformat": 4,
  "vscode": {
   "interpreter": {
    "hash": "34855c5f3e87dfe22acea0a4a8149754f86ba4a0096269a722d3d2793846b0bd"
   }
  }
 },
 "nbformat": 4,
 "nbformat_minor": 2
}
