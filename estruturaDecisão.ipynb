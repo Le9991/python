{
 "cells": [
  {
   "cell_type": "code",
   "execution_count": 2,
   "metadata": {},
   "outputs": [
    {
     "name": "stdout",
     "output_type": "stream",
     "text": [
      "Aprovado\n"
     ]
    }
   ],
   "source": [
    "\n",
    "\n",
    "nota1 = float(input('informe a nota do aluno: '))\n",
    "nota2 = float(input('informe a nota do aluno: '))\n",
    "nota3 = float(input('informe a nota do aluno: '))\n",
    "\n",
    "\n",
    "média = (nota1+nota2+nota3)/3\n",
    "\n",
    "if média < 7:\n",
    "    print ('Reprovado')\n",
    "elif média >= 7 and média <10:\n",
    "    print('Aprovado')\n",
    "else: \n",
    "    print('Aprovado com distinção')\n",
    "\n",
    "\n"
   ]
  },
  {
   "cell_type": "markdown",
   "metadata": {},
   "source": [
    "Conversor de medidas, faca um programa que receba uma medida em centimentros e o usuario escolha a medida de conversão, o programa faz o calculo e exibe a medida convertida\n"
   ]
  },
  {
   "cell_type": "code",
   "execution_count": 6,
   "metadata": {},
   "outputs": [
    {
     "name": "stdout",
     "output_type": "stream",
     "text": [
      "******************************Conversor de Medidas******************************\n",
      "\n",
      "Escolha para que unidade deseja converter\n",
      "1 - polegada\n",
      "2 - Pé\n",
      "3 - jarda\n",
      "695.0000 centimeros correspondem a 7.6006 Jarda\n"
     ]
    }
   ],
   "source": [
    "from os import system\n",
    "system('cls')\n",
    "\n",
    "titulo = 'Conversor de Medidas'\n",
    "print(titulo.center(80, '*'))\n",
    "medida = float(input('informe a medida em centimentros: '))\n",
    "\n",
    "print('\\nEscolha para que unidade deseja converter')\n",
    "print('1 - polegada\\n2 - Pé\\n3 - jarda')\n",
    "\n",
    "\n",
    "menu = input('Opção: ')\n",
    "\n",
    "valorPolegada = 2.54\n",
    "ValorPés = 30.48\n",
    "ValorJarda = 91.44\n",
    "\n",
    "if menu == '1':\n",
    "    polegada = medida / valorPolegada\n",
    "    resultado = str(f'{medida:.4f} centimeros correspondem a {polegada:.4f} polegadas')\n",
    "elif menu == '2':\n",
    "    pés = medida / ValorPés\n",
    "    resultado = str(f'{medida:.4f} centimeros correspondem a {pés:.4f} pés')\n",
    "elif menu == '3':\n",
    "    Jarda = medida / ValorJarda\n",
    "    resultado =  str(f'{medida:.4f} centimeros correspondem a {Jarda:.4f} Jarda')\n",
    "else:\n",
    "    resultado = str(f'Você não escolheu uma das opções validas')\n",
    "\n",
    "print (resultado)\n",
    "\n",
    "    "
   ]
  },
  {
   "cell_type": "markdown",
   "metadata": {},
   "source": [
    "programa que verifica se é uma letra digitada é vogal ou consoante"
   ]
  },
  {
   "cell_type": "code",
   "execution_count": 8,
   "metadata": {},
   "outputs": [
    {
     "name": "stdout",
     "output_type": "stream",
     "text": [
      "Voce digitou uma consoante\n"
     ]
    }
   ],
   "source": [
    "vogais = ['a','e','i','o','u']\n",
    "letra = input('Digite uma letra: ')\n",
    "if letra.lower() in vogais: \n",
    "    print('Você digitou uma vogal')\n",
    "else:\n",
    "    print('Voce digitou uma consoante')\n"
   ]
  },
  {
   "cell_type": "markdown",
   "metadata": {},
   "source": [
    "Faca um programa que receba tres numeros e mostre-os em ordem descrecente"
   ]
  },
  {
   "cell_type": "code",
   "execution_count": 15,
   "metadata": {},
   "outputs": [
    {
     "name": "stdout",
     "output_type": "stream",
     "text": [
      "************Exibir numeros em ordem descrencente************\n",
      "999\n",
      "506\n",
      "556\n"
     ]
    }
   ],
   "source": [
    "from os import system\n",
    "system('cls')\n",
    "import random\n",
    "\n",
    "\n",
    "titulo = 'Exibir numeros em ordem descrencente'\n",
    "print(titulo.center(60,'*'))\n",
    "\n",
    "num1 = random.randint(0,1000)\n",
    "num2 = random.randint(0,1000)\n",
    "num3 = random.randint(0,1000)\n",
    "\n",
    "if num1 > num2 and num1 > num3:\n",
    "    maior = num1\n",
    "elif num2 > num3:\n",
    "    maior = num2\n",
    "else: \n",
    "    maior = num3\n",
    "\n",
    "if num1 < num2 and num1 < num3:\n",
    "    menor = num1\n",
    "elif num2 < num3:\n",
    "    menorr = num2\n",
    "else: \n",
    "    menor = num3\n",
    "\n",
    "if (num1 < num3 and num1 > num2) or (num1 < num2 and num1 > num3):\n",
    "    meio = num1\n",
    "elif (num2 < num1 and num2 > num3) or (num2 < num3 and num2 > num3):\n",
    "    meio = num2\n",
    "else:\n",
    "    meio = num3\n",
    "\n",
    "\n",
    "print(f'{maior}\\n{meio}\\n{menor}')\n",
    "\n",
    "\n"
   ]
  }
 ],
 "metadata": {
  "kernelspec": {
   "display_name": "Python 3.11.0 64-bit",
   "language": "python",
   "name": "python3"
  },
  "language_info": {
   "codemirror_mode": {
    "name": "ipython",
    "version": 3
   },
   "file_extension": ".py",
   "mimetype": "text/x-python",
   "name": "python",
   "nbconvert_exporter": "python",
   "pygments_lexer": "ipython3",
   "version": "3.11.0"
  },
  "orig_nbformat": 4,
  "vscode": {
   "interpreter": {
    "hash": "34855c5f3e87dfe22acea0a4a8149754f86ba4a0096269a722d3d2793846b0bd"
   }
  }
 },
 "nbformat": 4,
 "nbformat_minor": 2
}
