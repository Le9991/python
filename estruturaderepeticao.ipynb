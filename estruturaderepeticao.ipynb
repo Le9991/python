{
 "cells": [
  {
   "cell_type": "markdown",
   "metadata": {},
   "source": [
    "Estruturas de repetição "
   ]
  },
  {
   "cell_type": "code",
   "execution_count": 2,
   "metadata": {},
   "outputs": [
    {
     "name": "stdout",
     "output_type": "stream",
     "text": [
      "0\n",
      "1\n",
      "2\n",
      "3\n",
      "4\n",
      "5\n",
      "6\n",
      "7\n",
      "8\n",
      "9\n",
      "10\n"
     ]
    }
   ],
   "source": [
    "#Enquanto determinada condição for verdadeira executa o codigo e o processo se repete\n",
    "\n",
    "\n",
    "x = 0\n",
    "while x  <= 10:\n",
    "    print(x)\n",
    "    x += 1 #para parar a repetição "
   ]
  },
  {
   "cell_type": "markdown",
   "metadata": {},
   "source": [
    "programa que receba um numero e mostre o calculo da tabuada "
   ]
  },
  {
   "cell_type": "code",
   "execution_count": 6,
   "metadata": {},
   "outputs": [
    {
     "name": "stdout",
     "output_type": "stream",
     "text": [
      "Tabuada Simples\n",
      "9 * 1 = 9\n",
      "9 * 2 = 18\n",
      "9 * 3 = 27\n",
      "9 * 4 = 36\n",
      "9 * 5 = 45\n",
      "9 * 6 = 54\n",
      "9 * 7 = 63\n",
      "9 * 8 = 72\n",
      "9 * 9 = 81\n",
      "9 * 10 = 90\n"
     ]
    }
   ],
   "source": [
    "from os import system\n",
    "system ('cls')\n",
    "titulo = 'Tabuada Simples'\n",
    "print(titulo.center(10, '*'))\n",
    "\n",
    "multiplicador = int(input('Informe o multiplicador: '))\n",
    "\n",
    "x = 1 \n",
    "while x <= 10:\n",
    "    print(f'{multiplicador} * {x} = {multiplicador * x}')\n",
    "    x += 1"
   ]
  },
  {
   "cell_type": "code",
   "execution_count": 8,
   "metadata": {},
   "outputs": [
    {
     "name": "stdout",
     "output_type": "stream",
     "text": [
      "0\n",
      "1\n",
      "2\n",
      "3\n",
      "4\n",
      "50% concluido\n",
      "5\n",
      "6\n",
      "7\n",
      "8\n",
      "9\n",
      "100% processo encerrado\n",
      "10\n"
     ]
    }
   ],
   "source": [
    "num = 0\n",
    "total = 10\n",
    "\n",
    "while num <= total:\n",
    "    print(num)\n",
    "    num += 1 \n",
    "    if num == 5:\n",
    "        print('50% concluido')\n",
    "    if num == 10:\n",
    "        print('100% processo encerrado')"
   ]
  },
  {
   "cell_type": "markdown",
   "metadata": {},
   "source": [
    "Jogo da adivinhação"
   ]
  },
  {
   "cell_type": "code",
   "execution_count": 2,
   "metadata": {},
   "outputs": [
    {
     "name": "stdout",
     "output_type": "stream",
     "text": [
      "********************Jogo da adivinhação*********************\n",
      "3\n",
      "é menor, tente de novo\n",
      "é menor, tente de novo\n",
      "é menor, tente de novo\n",
      "UHUUULL você acertou - 3\n"
     ]
    }
   ],
   "source": [
    "from os import system\n",
    "import random\n",
    "system('cls')\n",
    "titulo = 'Jogo da adivinhação'\n",
    "print(titulo.center(60,'*'))\n",
    "\n",
    "num = random.randint(1,10)\n",
    "print(num)\n",
    "tentativa = int(input(' Advinhe o numero de 1 a 10: (0 - para sair)'))\n",
    "while tentativa > 0:\n",
    "    if tentativa > num:\n",
    "        print('é menor, tente de novo')\n",
    "    elif tentativa <num:\n",
    "        print('é maior, tente de novo')\n",
    "    else: \n",
    "        print(f'UHUUULL você acertou - {num}')\n",
    "        break\n",
    "    tentativa = int(input('adivinho o numero de 1 a 10: (0 - para sair)'))"
   ]
  }
 ],
 "metadata": {
  "kernelspec": {
   "display_name": "Python 3.11.0 64-bit",
   "language": "python",
   "name": "python3"
  },
  "language_info": {
   "codemirror_mode": {
    "name": "ipython",
    "version": 3
   },
   "file_extension": ".py",
   "mimetype": "text/x-python",
   "name": "python",
   "nbconvert_exporter": "python",
   "pygments_lexer": "ipython3",
   "version": "3.11.0"
  },
  "orig_nbformat": 4,
  "vscode": {
   "interpreter": {
    "hash": "34855c5f3e87dfe22acea0a4a8149754f86ba4a0096269a722d3d2793846b0bd"
   }
  }
 },
 "nbformat": 4,
 "nbformat_minor": 2
}
