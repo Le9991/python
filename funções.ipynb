{
 "cells": [
  {
   "cell_type": "markdown",
   "metadata": {},
   "source": [
    "funções"
   ]
  },
  {
   "cell_type": "markdown",
   "metadata": {},
   "source": [
    "Sintaxe basica\n"
   ]
  },
  {
   "cell_type": "code",
   "execution_count": null,
   "metadata": {},
   "outputs": [],
   "source": [
    "#\n",
    "\n",
    "def nome_da_funcao(parametros):\n",
    "    '''\n",
    "        corpo da funcao\n",
    "    '''\n",
    "    "
   ]
  },
  {
   "cell_type": "code",
   "execution_count": 1,
   "metadata": {},
   "outputs": [
    {
     "name": "stdout",
     "output_type": "stream",
     "text": [
      "Seja Bem-vindo\n"
     ]
    }
   ],
   "source": [
    "def exibe_mensagem():\n",
    "    print('Seja Bem-vindo')\n",
    "\n",
    "exibe_mensagem()\n"
   ]
  },
  {
   "cell_type": "code",
   "execution_count": 3,
   "metadata": {},
   "outputs": [
    {
     "name": "stdout",
     "output_type": "stream",
     "text": [
      "Seja Bem-vindo\n"
     ]
    }
   ],
   "source": [
    "def exibe_mensagem():\n",
    "    return 'Seja Bem-vindo'\n",
    "exibe_mensagem()#retorna um alor string\n",
    "print(exibe_mensagem())#pega o retorno string e exibe com o comando print\n",
    "\n"
   ]
  },
  {
   "cell_type": "code",
   "execution_count": 6,
   "metadata": {},
   "outputs": [
    {
     "name": "stdout",
     "output_type": "stream",
     "text": [
      "Soma: 13.0\n",
      "(8.0, 5.0)\n"
     ]
    }
   ],
   "source": [
    "def soma(v1, v2):\n",
    "    try:\n",
    "        return float(v1)+float(v2)\n",
    "    except:\n",
    "        return False\n",
    "def subtracao(v1, v2):\n",
    "    return v1-v2\n",
    "def multiplicacao(v1, v2):\n",
    "    return v1*v2\n",
    "def divisao(v1, v2):\n",
    "    try:\n",
    "        return float(v1)/float(v2)\n",
    "    except ZeroDivisionError as error:\n",
    "        print('Erro conversao')\n",
    "        return False\n",
    "\n",
    "\n",
    "opcao=1\n",
    "while opcao: \n",
    "    v1 = float(input('Informe o valor1: '))\n",
    "    v2 = float(input('Informe o valor2'))\n",
    "    operador = int(input('''end=\n",
    "    1. Somar\n",
    "    2. Subtrair\n",
    "    3. Multiplicar\n",
    "    4. Dividir\n",
    "    '''))\n",
    "\n",
    "    if operador == 1:\n",
    "        print(f'Soma: {soma(v1, v2)}')\n",
    "    if operador == 2:\n",
    "        print(f'Subtrair: {subtracao(v1, v2)}') \n",
    "    if operador == 3:\n",
    "        print(f'Multiplicar: {multiplicacao(v1, v2)}')  \n",
    "    if operador == 4:\n",
    "        print(f'Dividir: {divisao(v1, v2)}')\n",
    "    print((v1,v2))\n",
    "\n",
    "    opcao = input(f'\\nAperte 0 para sair ou Enter para continuar')\n",
    "    if opcao == \"0\":\n",
    "        opcao=int(opcao)\n",
    "    else: \n",
    "        opcao=1\n"
   ]
  },
  {
   "cell_type": "markdown",
   "metadata": {},
   "source": [
    "Uso das funções da biblioteca Math"
   ]
  },
  {
   "cell_type": "code",
   "execution_count": 13,
   "metadata": {},
   "outputs": [
    {
     "name": "stdout",
     "output_type": "stream",
     "text": [
      "5\n",
      "3\n",
      "1.0\n",
      "1.0\n",
      "6.0\n",
      "4.0\n",
      "4.0\n"
     ]
    }
   ],
   "source": [
    "from os import system\n",
    "import math, random\n",
    "system('cls')\n",
    "\n",
    "#help(math)\n",
    "\n",
    "#inteiro para cima\n",
    "print(math.ceil(4.2))\n",
    "\n",
    "#inteiro para baixo\n",
    "print(math.floor(3.9))\n",
    "\n",
    "#numero absoluto\n",
    "print(math.fabs(-1))\n",
    "\n",
    "#mod = resto de uma divisao\n",
    "print(math.fmod(9,4))\n",
    "\n",
    "#raiz quadrado\n",
    "print(math.sqrt(36))\n",
    "\n",
    "#potencia\n",
    "print(math.pow(2,2))\n",
    "\n",
    "\n",
    "#arredondamento não faz parte da math\n",
    "print(round(3.988,1))\n"
   ]
  },
  {
   "cell_type": "markdown",
   "metadata": {},
   "source": [
    "Funções de data\n"
   ]
  },
  {
   "cell_type": "code",
   "execution_count": 27,
   "metadata": {},
   "outputs": [
    {
     "name": "stdout",
     "output_type": "stream",
     "text": [
      "1986-02-07\n",
      "1986\n",
      "2\n",
      "7\n",
      "2022-11-24\n",
      "3\n",
      "21\n",
      "52\n",
      "59\n",
      "47\n",
      "4\n",
      "2022\n"
     ]
    }
   ],
   "source": [
    "from datetime import datetime, date, time\n",
    "\n",
    "data = date(1986,2,7)\n",
    "print(data)\n",
    "\n",
    "print(data.year)\n",
    "print(data.month)\n",
    "print(data.day)\n",
    "\n",
    "dataHoje = datetime.now()\n",
    "print(dataHoje.date())\n",
    "print(dataHoje.weekday())\n",
    "print(dataHoje.hour)\n",
    "print(dataHoje.minute)\n",
    "print(dataHoje.second)\n",
    "\n",
    "calendario = dataHoje.isocalendar()\n",
    "print(calendario.week)\n",
    "print(calendario.weekday)\n",
    "print(calendario.year)\n",
    "\n",
    "\n"
   ]
  },
  {
   "cell_type": "code",
   "execution_count": 31,
   "metadata": {},
   "outputs": [
    {
     "ename": "ValueError",
     "evalue": "time data '15/52/1922' does not match format '%d/%m/%Y'",
     "output_type": "error",
     "traceback": [
      "\u001b[1;31m---------------------------------------------------------------------------\u001b[0m",
      "\u001b[1;31mValueError\u001b[0m                                Traceback (most recent call last)",
      "Cell \u001b[1;32mIn [31], line 6\u001b[0m\n\u001b[0;32m      3\u001b[0m     \u001b[38;5;28;01mreturn\u001b[39;00m today\u001b[38;5;241m.\u001b[39myear \u001b[38;5;241m-\u001b[39m nascimento\u001b[38;5;241m.\u001b[39myear \u001b[38;5;241m-\u001b[39m ((today\u001b[38;5;241m.\u001b[39mmonth, today\u001b[38;5;241m.\u001b[39mday) \u001b[38;5;241m<\u001b[39m (nascimento\u001b[38;5;241m.\u001b[39mmonth, nascimento\u001b[38;5;241m.\u001b[39mday))\n\u001b[0;32m      5\u001b[0m dataNascimento \u001b[38;5;241m=\u001b[39m \u001b[38;5;28minput\u001b[39m(\u001b[38;5;124m'\u001b[39m\u001b[38;5;124mInforme a sua data de nascimento(dd/mm/aaaa: \u001b[39m\u001b[38;5;124m'\u001b[39m)\n\u001b[1;32m----> 6\u001b[0m dataNascimento \u001b[38;5;241m=\u001b[39m \u001b[43mdatetime\u001b[49m\u001b[38;5;241;43m.\u001b[39;49m\u001b[43mstrptime\u001b[49m\u001b[43m(\u001b[49m\u001b[43mdataNascimento\u001b[49m\u001b[43m,\u001b[49m\u001b[43m \u001b[49m\u001b[38;5;124;43m'\u001b[39;49m\u001b[38;5;132;43;01m%d\u001b[39;49;00m\u001b[38;5;124;43m/\u001b[39;49m\u001b[38;5;124;43m%\u001b[39;49m\u001b[38;5;124;43mm/\u001b[39;49m\u001b[38;5;124;43m%\u001b[39;49m\u001b[38;5;124;43mY\u001b[39;49m\u001b[38;5;124;43m'\u001b[39;49m\u001b[43m)\u001b[49m\n\u001b[0;32m      7\u001b[0m \u001b[38;5;28mprint\u001b[39m(dataNascimento)\n\u001b[0;32m      9\u001b[0m \u001b[38;5;28mprint\u001b[39m(\u001b[38;5;124mf\u001b[39m\u001b[38;5;124m'\u001b[39m\u001b[38;5;124mSua idade é: \u001b[39m\u001b[38;5;132;01m{\u001b[39;00midade(dataNascimento)\u001b[38;5;132;01m}\u001b[39;00m\u001b[38;5;124m anos\u001b[39m\u001b[38;5;124m'\u001b[39m)\n",
      "File \u001b[1;32mc:\\Users\\leandra.ssantos\\AppData\\Local\\Programs\\Python\\Python311\\Lib\\_strptime.py:568\u001b[0m, in \u001b[0;36m_strptime_datetime\u001b[1;34m(cls, data_string, format)\u001b[0m\n\u001b[0;32m    565\u001b[0m \u001b[39mdef\u001b[39;00m \u001b[39m_strptime_datetime\u001b[39m(\u001b[39mcls\u001b[39m, data_string, \u001b[39mformat\u001b[39m\u001b[39m=\u001b[39m\u001b[39m\"\u001b[39m\u001b[39m%a\u001b[39;00m\u001b[39m \u001b[39m\u001b[39m%\u001b[39m\u001b[39mb \u001b[39m\u001b[39m%d\u001b[39;00m\u001b[39m \u001b[39m\u001b[39m%\u001b[39m\u001b[39mH:\u001b[39m\u001b[39m%\u001b[39m\u001b[39mM:\u001b[39m\u001b[39m%\u001b[39m\u001b[39mS \u001b[39m\u001b[39m%\u001b[39m\u001b[39mY\u001b[39m\u001b[39m\"\u001b[39m):\n\u001b[0;32m    566\u001b[0m     \u001b[39m\"\"\"Return a class cls instance based on the input string and the\u001b[39;00m\n\u001b[0;32m    567\u001b[0m \u001b[39m    format string.\"\"\"\u001b[39;00m\n\u001b[1;32m--> 568\u001b[0m     tt, fraction, gmtoff_fraction \u001b[39m=\u001b[39m _strptime(data_string, \u001b[39mformat\u001b[39;49m)\n\u001b[0;32m    569\u001b[0m     tzname, gmtoff \u001b[39m=\u001b[39m tt[\u001b[39m-\u001b[39m\u001b[39m2\u001b[39m:]\n\u001b[0;32m    570\u001b[0m     args \u001b[39m=\u001b[39m tt[:\u001b[39m6\u001b[39m] \u001b[39m+\u001b[39m (fraction,)\n",
      "File \u001b[1;32mc:\\Users\\leandra.ssantos\\AppData\\Local\\Programs\\Python\\Python311\\Lib\\_strptime.py:349\u001b[0m, in \u001b[0;36m_strptime\u001b[1;34m(data_string, format)\u001b[0m\n\u001b[0;32m    347\u001b[0m found \u001b[39m=\u001b[39m format_regex\u001b[39m.\u001b[39mmatch(data_string)\n\u001b[0;32m    348\u001b[0m \u001b[39mif\u001b[39;00m \u001b[39mnot\u001b[39;00m found:\n\u001b[1;32m--> 349\u001b[0m     \u001b[39mraise\u001b[39;00m \u001b[39mValueError\u001b[39;00m(\u001b[39m\"\u001b[39m\u001b[39mtime data \u001b[39m\u001b[39m%r\u001b[39;00m\u001b[39m does not match format \u001b[39m\u001b[39m%r\u001b[39;00m\u001b[39m\"\u001b[39m \u001b[39m%\u001b[39m\n\u001b[0;32m    350\u001b[0m                      (data_string, \u001b[39mformat\u001b[39m))\n\u001b[0;32m    351\u001b[0m \u001b[39mif\u001b[39;00m \u001b[39mlen\u001b[39m(data_string) \u001b[39m!=\u001b[39m found\u001b[39m.\u001b[39mend():\n\u001b[0;32m    352\u001b[0m     \u001b[39mraise\u001b[39;00m \u001b[39mValueError\u001b[39;00m(\u001b[39m\"\u001b[39m\u001b[39munconverted data remains: \u001b[39m\u001b[39m%s\u001b[39;00m\u001b[39m\"\u001b[39m \u001b[39m%\u001b[39m\n\u001b[0;32m    353\u001b[0m                       data_string[found\u001b[39m.\u001b[39mend():])\n",
      "\u001b[1;31mValueError\u001b[0m: time data '15/52/1922' does not match format '%d/%m/%Y'"
     ]
    }
   ],
   "source": [
    "def idade(nascimento):\n",
    "    today = datetime.now()\n",
    "    return today.year - nascimento.year - ((today.month, today.day) < (nascimento.month, nascimento.day))\n",
    "\n",
    "def totalDiasVividos(nascimento):\n",
    "    return abs ((nascimento - today).days)\n",
    "\n",
    "dataNascimento = input('Informe a sua data de nascimento(dd/mm/aaaa: ')\n",
    "dataNascimento = datetime.strptime(dataNascimento, '%d/%m/%Y')\n",
    "print(dataNascimento)\n",
    "\n",
    "print(f'Sua idade é: {idade(dataNascimento)} anos')\n"
   ]
  }
 ],
 "metadata": {
  "kernelspec": {
   "display_name": "Python 3.11.0 64-bit",
   "language": "python",
   "name": "python3"
  },
  "language_info": {
   "codemirror_mode": {
    "name": "ipython",
    "version": 3
   },
   "file_extension": ".py",
   "mimetype": "text/x-python",
   "name": "python",
   "nbconvert_exporter": "python",
   "pygments_lexer": "ipython3",
   "version": "3.11.0"
  },
  "orig_nbformat": 4,
  "vscode": {
   "interpreter": {
    "hash": "34855c5f3e87dfe22acea0a4a8149754f86ba4a0096269a722d3d2793846b0bd"
   }
  }
 },
 "nbformat": 4,
 "nbformat_minor": 2
}
