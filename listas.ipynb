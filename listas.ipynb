{
 "cells": [
  {
   "cell_type": "code",
   "execution_count": 2,
   "metadata": {},
   "outputs": [
    {
     "name": "stdout",
     "output_type": "stream",
     "text": [
      "1\n"
     ]
    }
   ],
   "source": [
    "#Index é utilizado para achar a posição de determinada coisa na lista \n",
    "#para procurar por posição = print(lista1[n])  = n vale para a posição que vc quer descobrir.. lebrando que começa do 0\n",
    "lista1 = ['Catarina', 'Felipe', 1898, 2021 ]\n",
    "print(lista1.index('Felipe'))\n"
   ]
  },
  {
   "cell_type": "code",
   "execution_count": null,
   "metadata": {},
   "outputs": [],
   "source": [
    "#descobrindo total de elementos de uma lista \n",
    "lista1 = ['Catarina', 'Felipe', 1898, 2021 ]\n",
    "print(len(lista1))"
   ]
  },
  {
   "cell_type": "code",
   "execution_count": 5,
   "metadata": {},
   "outputs": [
    {
     "name": "stdout",
     "output_type": "stream",
     "text": [
      "['Catarina', 'Felipe', 1898, 2021, 'Adolfo', '1985']\n"
     ]
    }
   ],
   "source": [
    "#adicionadno elemento a uma lista\n",
    "\n",
    "lista1 = ['Catarina', 'Felipe', 1898, 2021 ]\n",
    "lista1.append('Adolfo')\n",
    "lista1.append('1985')\n",
    "\n",
    "print(lista1)\n"
   ]
  },
  {
   "cell_type": "code",
   "execution_count": 6,
   "metadata": {},
   "outputs": [
    {
     "name": "stdout",
     "output_type": "stream",
     "text": [
      "['Catarina', 'Adolfo', 1898, 2021]\n"
     ]
    }
   ],
   "source": [
    "#substituindo um novo elemento em uma posição especifica\n",
    "lista1 = ['Catarina', 'Felipe', 1898, 2021 ]\n",
    "lista1[1] = 'Adolfo'\n",
    "print(lista1)\n"
   ]
  },
  {
   "cell_type": "code",
   "execution_count": 7,
   "metadata": {},
   "outputs": [
    {
     "name": "stdout",
     "output_type": "stream",
     "text": [
      "['Catarina', 'Felipe', 'Adolfo', 1898, 2021]\n"
     ]
    }
   ],
   "source": [
    "#adicionando novo elemento via funcao insert()\n",
    "\n",
    "lista1 = ['Catarina', 'Felipe', 1898, 2021 ]\n",
    "lista1.insert(2, 'Adolfo')\n",
    "print(lista1)\n"
   ]
  },
  {
   "cell_type": "code",
   "execution_count": 11,
   "metadata": {},
   "outputs": [
    {
     "name": "stdout",
     "output_type": "stream",
     "text": [
      "['Catarina', 1898, 2021]\n",
      "['Catarina', 2021]\n"
     ]
    }
   ],
   "source": [
    "#removendo elemento em uma lista\n",
    "lista1 = ['Catarina', 'Felipe', 1898, 2021 ]\n",
    "lista1.pop(1)\n",
    "#pop remove elemento pro meio do seu numero indice\n",
    "print(lista1)\n",
    "lista1.remove(1898)\n",
    "print(lista1)\n"
   ]
  },
  {
   "cell_type": "code",
   "execution_count": 15,
   "metadata": {},
   "outputs": [
    {
     "name": "stdout",
     "output_type": "stream",
     "text": [
      "[0, 6, 3, 8, 1, 5, 2, 7, 4, 9]\n",
      "[0, 1, 2, 3, 4, 5, 6, 7, 8, 9]\n",
      "[9, 8, 7, 6, 5, 4, 3, 2, 1, 0]\n"
     ]
    }
   ],
   "source": [
    "#ordenação de lista \n",
    "\n",
    "x = 1\n",
    "#reverse ordem inversa da lista\n",
    "num = [9,4,7,2,5,1,8,3,6,0]\n",
    "num.reverse()\n",
    "print(num)\n",
    "#ordena em ordem crescente (natural)\n",
    "num.sort()\n",
    "print(num)\n",
    "#sort com reverse ordenar em ordem descrescente\n",
    "num.sort(reverse=True)\n",
    "print(num)\n",
    "\n"
   ]
  },
  {
   "cell_type": "code",
   "execution_count": 16,
   "metadata": {},
   "outputs": [
    {
     "name": "stdout",
     "output_type": "stream",
     "text": [
      "['Banana', 'Maça', 'Morango', 'Manga', 'Laranja']\n",
      "['Banana', 'Maça', 'Morango', 'Manga', 'Laranja']\n"
     ]
    }
   ],
   "source": [
    "#Concatenar e unindo listas\n",
    "\n",
    "frutas1 = ['Banana', 'Maça', 'Morango']\n",
    "frutas2 = ['Manga', 'Laranja']\n",
    "\n",
    "todasfrutas = frutas1 + frutas2\n",
    "print(todasfrutas)\n",
    "\n",
    "frutas1.extend(frutas2)\n",
    "print(frutas1)\n"
   ]
  },
  {
   "cell_type": "code",
   "execution_count": null,
   "metadata": {},
   "outputs": [],
   "source": []
  }
 ],
 "metadata": {
  "kernelspec": {
   "display_name": "Python 3.11.0 64-bit",
   "language": "python",
   "name": "python3"
  },
  "language_info": {
   "codemirror_mode": {
    "name": "ipython",
    "version": 3
   },
   "file_extension": ".py",
   "mimetype": "text/x-python",
   "name": "python",
   "nbconvert_exporter": "python",
   "pygments_lexer": "ipython3",
   "version": "3.11.0"
  },
  "orig_nbformat": 4,
  "vscode": {
   "interpreter": {
    "hash": "34855c5f3e87dfe22acea0a4a8149754f86ba4a0096269a722d3d2793846b0bd"
   }
  }
 },
 "nbformat": 4,
 "nbformat_minor": 2
}
